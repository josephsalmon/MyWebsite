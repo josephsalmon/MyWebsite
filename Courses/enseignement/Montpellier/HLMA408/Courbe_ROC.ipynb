{
 "cells": [
  {
   "cell_type": "markdown",
   "metadata": {},
   "source": [
    "## HLMA 408: Courbes ROC\n",
    "\n",
    "***\n",
    "> __Auteur__: Joseph Salmon\n",
    "> <joseph.salmon@umontpellier.fr>"
   ]
  },
  {
   "cell_type": "code",
   "execution_count": 1,
   "metadata": {},
   "outputs": [],
   "source": [
    "import numpy as np\n",
    "import matplotlib.pyplot as plt\n",
    "import os\n",
    "from matplotlib import rc\n",
    "import seaborn as sns\n",
    "from scipy.stats import norm\n",
    "import matplotlib.patches as mpatches\n",
    "from ipywidgets import interact"
   ]
  },
  {
   "cell_type": "code",
   "execution_count": 2,
   "metadata": {},
   "outputs": [],
   "source": [
    "rc('font', **{'family': 'sans-serif', 'sans-serif': ['Computer Modern Roman']})\n",
    "params = {'axes.labelsize': 12,\n",
    "          'font.size': 10,\n",
    "          'legend.fontsize': 8,\n",
    "          'xtick.labelsize': 0,\n",
    "          'ytick.labelsize': 0,\n",
    "          'text.usetex': True,\n",
    "          'figure.figsize': (8, 6)}\n",
    "plt.rcParams.update(params)"
   ]
  },
  {
   "cell_type": "code",
   "execution_count": 3,
   "metadata": {},
   "outputs": [
    {
     "data": {
      "text/plain": [
       "<Figure size 576x432 with 0 Axes>"
      ]
     },
     "metadata": {},
     "output_type": "display_data"
    }
   ],
   "source": [
    "sns.set_context(\"poster\")\n",
    "sns.set_style(\"white\")\n",
    "sns.set_palette(\"colorblind\")\n",
    "sns.despine(ax=None, top=True, right=True, left=True, bottom=True)\n",
    "color_blind_list = sns.color_palette(\"colorblind\", 8)\n",
    "my_orange = color_blind_list[2]\n",
    "my_green = color_blind_list[1]\n",
    "my_blue = color_blind_list[0]"
   ]
  },
  {
   "cell_type": "code",
   "execution_count": 4,
   "metadata": {},
   "outputs": [],
   "source": [
    "xs = np.linspace(-1, 9, num=150)\n",
    "bbox_props = dict(boxstyle=\"round\", fc=\"w\", ec=\"0.5\", alpha=0.9)  # Boîtes."
   ]
  },
  {
   "cell_type": "code",
   "execution_count": 5,
   "metadata": {},
   "outputs": [],
   "source": [
    "def plot_roc_n_graph(q=1.75, mu_normal=1.5, sigma2_normal=1, mu_abnormal=3.2, sigma2_abnormal=1.2):\n",
    "    y1 = norm.pdf(xs, loc=mu_normal, scale=np.sqrt(sigma2_normal))\n",
    "    y2 = norm.pdf(xs, loc=mu_abnormal, scale=np.sqrt(sigma2_abnormal))\n",
    "\n",
    "    fig, ax = plt.subplots(1, 2, figsize=(13, 6))\n",
    "    FN = 1 - norm.cdf(q, loc=mu_normal, scale=np.sqrt(sigma2_normal))\n",
    "    FP = 1 - norm.cdf(q, loc=mu_abnormal, scale=np.sqrt(sigma2_abnormal))\n",
    "\n",
    "    FN_full = 1 - norm.cdf(xs, loc=mu_normal, scale=np.sqrt(sigma2_normal))\n",
    "    FP_full = 1 - norm.cdf(xs, loc=mu_abnormal, scale=np.sqrt(sigma2_abnormal))\n",
    "\n",
    "    ax[0].plot(FN_full, FP_full, 'k', linewidth=7)\n",
    "    ax[0].plot(FN, FP, 'o', c='red', markersize=20)\n",
    "    ax[0].set_xlabel('FP', fontsize=30)\n",
    "    ax[0].set_ylabel('1-FN', fontsize=30)\n",
    "    ax[0].tick_params(axis='both', which='major', labelsize=30)\n",
    "    ax[0].set_xlim([-0.1, 1.3])\n",
    "    ax[0].set_ylim([-0.1, 1.3])\n",
    "\n",
    "    mod_norm = 1. / np.sqrt(2 * 3.14 * sigma2_normal)\n",
    "    mod_abnorm = 1. / np.sqrt(2 * 3.14 * sigma2_abnormal)\n",
    "\n",
    "    ax[1].text(mu_normal - 1.9, mod_norm - .21, '$H_0$', ha=\"center\",\n",
    "               va=\"bottom\", size=20, bbox=bbox_props)\n",
    "    ax[1].text(mu_abnormal + 1.49, mod_abnorm - 0.1, '$H_1$', ha=\"center\",\n",
    "               va=\"bottom\", size=20, bbox=bbox_props)\n",
    "    ax[1].text(q + .2, np.max([y1, y2]) + 0.05, '$q= ' + str(q) + '$',\n",
    "               fontsize=30, fontweight='bold')\n",
    "\n",
    "    ax[1].plot(xs, y1, color='k', linewidth=1)\n",
    "    ax[1].plot(xs, y2, color='k', linewidth=1)\n",
    "\n",
    "    ax[1].fill_between(xs, y2, where=xs <= q, facecolor=color_blind_list[1])\n",
    "    ax[1].fill_between(xs, y1, where=xs >= q, facecolor=color_blind_list[0])\n",
    "\n",
    "    ax[1].set_xlim([xs.min(), xs.max()])\n",
    "    ax[1].set_ylim([-0.05, np.max([y1, y2]) + .1])\n",
    "    ax[1].axvline(x=q, color='k', linewidth=5)\n",
    "    sns.set_style(\"ticks\")\n",
    "    sns.despine()\n",
    "    classes = ['FN', 'FP']\n",
    "    class_colours = [color_blind_list[1], color_blind_list[0]]\n",
    "    recs = []\n",
    "    for i in range(0, len(class_colours)):\n",
    "        recs.append(mpatches.Rectangle((0, 0), 1, 1, fc=class_colours[i]))\n",
    "    leg = plt.legend(recs, classes, loc=1, fontsize=14)\n",
    "\n",
    "    filename = 'fig_'\n",
    "    plt.tight_layout()\n",
    "    plt.show()"
   ]
  },
  {
   "cell_type": "code",
   "execution_count": 6,
   "metadata": {},
   "outputs": [
    {
     "data": {
      "application/vnd.jupyter.widget-view+json": {
       "model_id": "32270a96579d4256893ab4d338f7acba",
       "version_major": 2,
       "version_minor": 0
      },
      "text/plain": [
       "interactive(children=(FloatSlider(value=1.75, description='q', max=8.0, step=0.05), FloatSlider(value=1.5, des…"
      ]
     },
     "metadata": {},
     "output_type": "display_data"
    }
   ],
   "source": [
    "interact(plot_roc_n_graph,\n",
    "         mu_normal= (1,3,0.5),\n",
    "         sigma2_normal = (0.2, 2, 0.2),\n",
    "         mu_abnormal= (1, 5, 0.5),\n",
    "         sigma2_abnormal = (0.2, 2, 0.2),\n",
    "         q=(0, 8, 0.05));"
   ]
  },
  {
   "cell_type": "code",
   "execution_count": null,
   "metadata": {},
   "outputs": [],
   "source": []
  }
 ],
 "metadata": {
  "kernelspec": {
   "display_name": "Python 3",
   "language": "python",
   "name": "python3"
  },
  "language_info": {
   "codemirror_mode": {
    "name": "ipython",
    "version": 3
   },
   "file_extension": ".py",
   "mimetype": "text/x-python",
   "name": "python",
   "nbconvert_exporter": "python",
   "pygments_lexer": "ipython3",
   "version": "3.7.3"
  },
  "toc": {
   "base_numbering": 1,
   "nav_menu": {},
   "number_sections": false,
   "sideBar": true,
   "skip_h1_title": false,
   "title_cell": "Table of Contents",
   "title_sidebar": "Contents",
   "toc_cell": false,
   "toc_position": {},
   "toc_section_display": true,
   "toc_window_display": true
  }
 },
 "nbformat": 4,
 "nbformat_minor": 2
}
