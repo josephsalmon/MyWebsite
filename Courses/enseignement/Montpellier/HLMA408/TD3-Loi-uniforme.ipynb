{
 "cells": [
  {
   "cell_type": "code",
   "execution_count": 1,
   "metadata": {},
   "outputs": [],
   "source": [
    "import numpy as np\n",
    "\n",
    "import matplotlib.pylab as plt\n",
    "import matplotlib.ticker as mtick\n",
    "from ipywidgets import interactive, IntSlider  # widget manipulation\n",
    "from matplotlib.ticker import ScalarFormatter\n",
    "\n",
    "# class ScalarFormatterForceFormat(ScalarFormatter):\n",
    "#     def _set_format(self):  # Override function that finds format to use.\n",
    "#         self.format = \"%1.2f\"  # Give format here\n"
   ]
  },
  {
   "cell_type": "code",
   "execution_count": 2,
   "metadata": {},
   "outputs": [],
   "source": [
    "def vrais_unif(theta, x):\n",
    "    z = np.zeros_like(x)\n",
    "    idx = (x > 0) * (x < theta)\n",
    "    z[idx] = 1 / theta\n",
    "\n",
    "    return z.prod()"
   ]
  },
  {
   "cell_type": "code",
   "execution_count": 3,
   "metadata": {},
   "outputs": [],
   "source": [
    "plt.close('all')"
   ]
  },
  {
   "cell_type": "code",
   "execution_count": 4,
   "metadata": {},
   "outputs": [],
   "source": [
    "def uniform_likelihood(n_samples=8, theta_0=2):\n",
    "    \n",
    "    np.random.seed(44)\n",
    "    x = theta_0 * np.random.rand(100)[:n_samples]\n",
    "    \n",
    "    fig, ax = plt.subplots(2, 1, figsize=(14, 8), sharex=True)\n",
    "    theta_eval = np.linspace(-0.3, 4, 603)\n",
    "    out = np.zeros_like(theta_eval)\n",
    "    for i, theta in enumerate(theta_eval):\n",
    "        out[i] = vrais_unif(theta, x)\n",
    "\n",
    "    ymax = np.max(x)**(- n_samples) * 1.1\n",
    "    ax[0].set_xlim(theta_eval[0], theta_eval[-1])\n",
    "    ax[0].plot(theta_eval, out, label='Vraisamblance', linewidth=3)\n",
    "    ax[0].set_ylim([0, ymax])\n",
    "#     yfmt = ScalarFormatterForceFormat()\n",
    "#     yfmt.set_powerlimits((0,0))\n",
    "#     ax[0].yaxis.set_major_formatter(yfmt)  \n",
    "    ax[0].vlines(x, 0, ymax, linestyle='--', linewidth=1, color='k',label=r'$X_i$')\n",
    "    ax[0].set_xlabel(r'$\\theta$')\n",
    "    ax[0].set_title('Loi uniforme: vraisamblance et données')\n",
    "    ax[0].legend(fontsize=12)\n",
    "\n",
    "    \n",
    "    sigma = 0.1\n",
    "    y = 0.1 * np.random.randn(n_samples)\n",
    "    ax[1].plot(x, y, 'o', alpha=0.75, label=r'$X_i$')\n",
    "    ax[1].set_xlabel('Observations')\n",
    "    ax[1].set_ylim([-20 * sigma, 20 * sigma])\n",
    "    ax[1].vlines([np.max(x)], -20 * sigma, 20 * sigma, linestyle='--',\n",
    "                 linewidth=3, color='r', label=r'$\\max(X_1,\\dots,X_n)$')\n",
    "    ax[1].vlines([theta_0], -20 * sigma, 20 * sigma,\n",
    "                 linestyle='-', linewidth=3, color='r', label=r'$\\theta_0$')\n",
    "    ax[1].legend(fontsize=12)\n",
    "    ax[1].set_xlim(theta_eval[0], theta_eval[-1])\n",
    "\n",
    "    ax[1].set_yticks([])  # Disable yticks.\n",
    "    props = dict(boxstyle='round', facecolor='wheat', alpha=1)\n",
    "    plt.show()"
   ]
  },
  {
   "cell_type": "code",
   "execution_count": 5,
   "metadata": {},
   "outputs": [
    {
     "data": {
      "application/vnd.jupyter.widget-view+json": {
       "model_id": "1ef98d023b5d40e3b85ea49981bbb24f",
       "version_major": 2,
       "version_minor": 0
      },
      "text/plain": [
       "interactive(children=(IntSlider(value=24, description='n_samples', max=50, min=1), FloatSlider(value=2.0, desc…"
      ]
     },
     "metadata": {},
     "output_type": "display_data"
    }
   ],
   "source": [
    "interactive_plot = interactive(uniform_likelihood, n_samples=IntSlider(min=1, max=50, step=1, value=24),\n",
    "                               theta_0=(0.5, 3.5, 0.1))\n",
    "output = interactive_plot.children[-1]\n",
    "output.layout.height = '600px'\n",
    "interactive_plot"
   ]
  }
 ],
 "metadata": {
  "kernelspec": {
   "display_name": "Python 3",
   "language": "python",
   "name": "python3"
  },
  "language_info": {
   "codemirror_mode": {
    "name": "ipython",
    "version": 3
   },
   "file_extension": ".py",
   "mimetype": "text/x-python",
   "name": "python",
   "nbconvert_exporter": "python",
   "pygments_lexer": "ipython3",
   "version": "3.7.3"
  },
  "toc": {
   "base_numbering": 1,
   "nav_menu": {},
   "number_sections": false,
   "sideBar": true,
   "skip_h1_title": false,
   "title_cell": "Table of Contents",
   "title_sidebar": "Contents",
   "toc_cell": false,
   "toc_position": {},
   "toc_section_display": true,
   "toc_window_display": true
  }
 },
 "nbformat": 4,
 "nbformat_minor": 2
}
